{
 "cells": [
  {
   "cell_type": "code",
   "execution_count": null,
   "id": "69615b39-d1ab-4479-b1a1-0b06b02b05e5",
   "metadata": {},
   "outputs": [],
   "source": [
    "Probability Mass Function (PMF) and Probability Density Function (PDF) are two fundamental concepts in probability theory and statistics.\n",
    "\n",
    "PMF is a function that gives the probability of each possible value of a discrete random variable. It is defined as the probability of a particular value x of the random variable X:\n",
    "\n",
    "PMF(x) = P(X = x)\n",
    "\n",
    "Here, x can take on any possible value of X, and P(X = x) is the probability of the event X = x. The PMF satisfies two conditions: 1) PMF(x) is non-negative for all x, and 2) the sum of PMF over all possible values of x is equal to 1.\n",
    "\n",
    "For example, consider the tossing of a fair six-sided die. The random variable X denotes the outcome of a single roll. The PMF of X is:\n",
    "\n",
    "PMF(x) =\n",
    "1/6, for x = 1, 2, 3, 4, 5, 6\n",
    "0, otherwise\n",
    "\n",
    "This PMF states that the probability of each outcome is equal to 1/6, and the sum of probabilities over all possible outcomes is 1.\n",
    "\n",
    "PDF, on the other hand, is a function that gives the relative likelihood of each possible value of a continuous random variable. It is defined as the derivative of the cumulative distribution function (CDF) of the random variable:\n",
    "\n",
    "PDF(x) = d/dx [CDF(x)]\n",
    "\n",
    "Here, x can take on any possible value of the continuous random variable X, and the PDF satisfies two conditions: 1) PDF(x) is non-negative for all x, and 2) the integral of PDF over all possible values of x is equal to 1.\n",
    "\n",
    "For example, consider the height of a population of adults. The random variable X denotes the height, which can take on any value in a continuous range. The PDF of X might be a normal distribution, which is given by the equation:\n",
    "\n",
    "PDF(x) = (1/σ√(2π)) * e^(-(x-μ)^2 / 2σ^2)\n",
    "\n",
    "Here, μ is the mean height, σ is the standard deviation, and e is the base of the natural logarithm. This PDF describes the relative likelihood of each possible height, with higher probabilities given to heights close to the mean and lower probabilities given to heights further from the mean.\n",
    "\n",
    "In summary, the PMF and PDF are mathematical functions that describe the probability of each possible value of a random variable, for discrete and continuous random variables, respectively."
   ]
  },
  {
   "cell_type": "code",
   "execution_count": null,
   "id": "e3855c7b-0b69-4716-9646-5a63f8b133f3",
   "metadata": {},
   "outputs": [],
   "source": [
    "The Cumulative Distribution Function (CDF) is a function that gives the probability that a random variable X takes on a value less than or equal to x, for all possible values of x. In other words, the CDF of X is the probability distribution of X, expressed in terms of the cumulative probabilities of X.\n",
    "\n",
    "The CDF is defined as:\n",
    "\n",
    "CDF(x) = P(X ≤ x)\n",
    "\n",
    "where X is a random variable and x is any real number. The CDF is non-decreasing and takes values between 0 and 1.\n",
    "\n",
    "For example, consider a coin toss experiment where the random variable X denotes the number of heads obtained in three tosses of a fair coin. The possible values of X are 0, 1, 2, and 3. The CDF of X is:\n",
    "\n",
    "CDF(x) = P(X ≤ x)\n",
    "\n",
    "= P(X = 0) + P(X = 1) + P(X = 2) + P(X = 3)\n",
    "\n",
    "= 1/8 + 3/8 + 3/8 + 1/8 (using the PMF of X)\n",
    "\n",
    "= 1/8 * (1 + 3 + 3 + 1)\n",
    "\n",
    "= 1/2\n",
    "\n",
    "So, the CDF of X is:\n",
    "\n",
    "CDF(x) =\n",
    "0, for x < 0\n",
    "1/2, for 0 ≤ x < 1\n",
    "7/8, for 1 ≤ x < 2\n",
    "1, for x ≥ 2\n",
    "\n",
    "The CDF is useful because it provides a complete description of the probability distribution of a random variable, including information about the likelihood of different values of the random variable. It can be used to calculate probabilities of events involving the random variable, as well as to calculate other statistical quantities such as the mean, variance, and moments of the distribution.\n",
    "\n",
    "In summary, the CDF is a function that gives the cumulative probability distribution of a random variable. It is a useful tool in probability theory and statistics for calculating probabilities and other statistical quantities related to the random variable."
   ]
  },
  {
   "cell_type": "code",
   "execution_count": null,
   "id": "a085d7d4-a304-467e-b5b8-b3c3bbdee551",
   "metadata": {},
   "outputs": [],
   "source": [
    "The normal distribution, also known as the Gaussian distribution, is a bell-shaped probability distribution that is commonly used as a model in many different fields of study, including statistics, physics, engineering, finance, and more. Some examples of situations where the normal distribution might be used as a model include:\n",
    "\n",
    "The heights of a population: The normal distribution can be used to model the heights of people in a population. The mean and standard deviation of the normal distribution can be used to describe the average height and the variability of heights in the population.\n",
    "\n",
    "The scores on a test: The normal distribution can be used to model the scores on a test, assuming that the test scores are normally distributed. The mean and standard deviation of the normal distribution can be used to describe the average score and the spread of scores among the test takers.\n",
    "\n",
    "The error in a measurement: The normal distribution can be used to model the error in a measurement, assuming that the error is normally distributed. The mean and standard deviation of the normal distribution can be used to describe the average error and the variability of errors in the measurement.\n",
    "\n",
    "The parameters of the normal distribution are the mean (μ) and the standard deviation (σ). The mean represents the center of the distribution, or the point where the distribution is symmetric. The standard deviation represents the spread of the distribution, or the amount of variability in the data.\n",
    "\n",
    "If the mean of the distribution is shifted to the right or left, the entire distribution will shift with it, but the shape of the distribution will remain the same. If the standard deviation is increased, the distribution will become wider and flatter. If the standard deviation is decreased, the distribution will become narrower and taller."
   ]
  },
  {
   "cell_type": "code",
   "execution_count": null,
   "id": "b33ab4c2-27e4-4dcb-af3f-873ec6ab7a57",
   "metadata": {},
   "outputs": [],
   "source": [
    "The normal distribution is a very important concept in probability theory and statistics because it is used to model many natural phenomena and observations in the real world. It is a bell-shaped probability distribution with a symmetrical shape, where most of the data points are clustered around the mean, with fewer data points in the tails.\n",
    "\n",
    "Here are a few real-life examples where the normal distribution is used:\n",
    "\n",
    "Height of people: The heights of people in a population tend to follow a normal distribution. The mean height is around 5'7\" for males and 5'3\" for females, with a standard deviation of about 2.5 inches.\n",
    "\n",
    "IQ scores: IQ scores are often assumed to follow a normal distribution with a mean of 100 and a standard deviation of 15. This allows for easy comparison of scores and helps in identifying outliers.\n",
    "\n",
    "Grades in a class: The grades in a class can often be modeled using a normal distribution. This can help instructors determine how many students are performing at different levels and set appropriate grading curves.\n",
    "\n",
    "Blood pressure: Blood pressure readings in a population can often be modeled using a normal distribution. The mean and standard deviation can help medical professionals determine what is considered normal or abnormal blood pressure for an individual.\n",
    "\n",
    "Stock prices: Stock prices can often be modeled using a normal distribution, which helps investors to understand the probability of different price movements and to make informed investment decisions."
   ]
  },
  {
   "cell_type": "code",
   "execution_count": null,
   "id": "5abf2d75-adab-4673-bef8-ce78ad520b4f",
   "metadata": {},
   "outputs": [],
   "source": [
    "The Bernoulli distribution is a discrete probability distribution that models a single Bernoulli trial or experiment, where the outcome is either a success or a failure. The probability of success is denoted by p, and the probability of failure is denoted by q=1-p. The Bernoulli distribution is named after the Swiss mathematician Jacob Bernoulli.\n",
    "\n",
    "An example of the Bernoulli distribution is flipping a coin. If we define \"heads\" as a success and \"tails\" as a failure, then the probability of getting a heads is p=0.5, and the probability of getting a tails is q=0.5. Therefore, the Bernoulli distribution models the probability of getting a heads or a tails on a single coin flip.\n",
    "\n",
    "The Bernoulli distribution is closely related to the binomial distribution. The main difference between the two is that the Bernoulli distribution models a single trial, while the binomial distribution models the probability of a certain number of successes in a fixed number of independent Bernoulli trials.\n",
    "\n",
    "For example, let's say we flip a coin 10 times and count the number of heads. The probability of getting a heads on a single flip is p=0.5, so the probability of getting k heads in 10 flips can be modeled by the binomial distribution with parameters n=10 and p=0.5. In this case, the number of successes (heads) is a random variable that can take on values from 0 to 10, with a certain probability for each value."
   ]
  },
  {
   "cell_type": "code",
   "execution_count": null,
   "id": "8e0f9c5b-64d2-4c22-8feb-a4c50ae68fa5",
   "metadata": {},
   "outputs": [],
   "source": []
  },
  {
   "cell_type": "code",
   "execution_count": null,
   "id": "6499cc43-fc33-4273-9a62-c6bbe8e36ee6",
   "metadata": {},
   "outputs": [],
   "source": []
  }
 ],
 "metadata": {
  "kernelspec": {
   "display_name": "Python 3 (ipykernel)",
   "language": "python",
   "name": "python3"
  },
  "language_info": {
   "codemirror_mode": {
    "name": "ipython",
    "version": 3
   },
   "file_extension": ".py",
   "mimetype": "text/x-python",
   "name": "python",
   "nbconvert_exporter": "python",
   "pygments_lexer": "ipython3",
   "version": "3.10.8"
  }
 },
 "nbformat": 4,
 "nbformat_minor": 5
}
